{
 "cells": [
  {
   "cell_type": "code",
   "execution_count": 22,
   "id": "8f1a9fba",
   "metadata": {},
   "outputs": [],
   "source": [
    "import numpy as np\n",
    "import pandas as pd\n",
    "import seaborn as sns\n",
    "import matplotlib.pyplot as plt\n",
    "import os\n",
    "import itertools\n",
    "from sklearn.model_selection import train_test_split\n",
    "from sklearn.feature_extraction.text import TfidfVectorizer\n",
    "from sklearn.linear_model import PassiveAggressiveClassifier\n",
    "from sklearn.metrics import accuracy_score, confusion_matrix\n",
    "import numpy as np\n",
    "import matplotlib.pyplot as plt\n",
    "import pandas as pd\n",
    "from sklearn import model_selection\n",
    "import spacy"
   ]
  },
  {
   "cell_type": "code",
   "execution_count": 6,
   "id": "3d436a8a",
   "metadata": {},
   "outputs": [
    {
     "name": "stdout",
     "output_type": "stream",
     "text": [
      "['.ipynb_checkpoints', 'news', 'news.csv', 'news.zip', 'Untitled.ipynb']\n"
     ]
    }
   ],
   "source": [
    "print(os.listdir())"
   ]
  },
  {
   "cell_type": "code",
   "execution_count": 7,
   "id": "54a9ae94",
   "metadata": {},
   "outputs": [],
   "source": [
    "df=pd.read_csv('C:/Users/Joshua Giwa/Desktop/New_Desktop/YEAR_Masters_Degree/PERSONAL MACHINE LEARNING PROJECTS/news.csv')"
   ]
  },
  {
   "cell_type": "code",
   "execution_count": 9,
   "id": "be64900a",
   "metadata": {},
   "outputs": [
    {
     "data": {
      "text/plain": [
       "(6335, 4)"
      ]
     },
     "execution_count": 9,
     "metadata": {},
     "output_type": "execute_result"
    }
   ],
   "source": [
    "df.shape"
   ]
  },
  {
   "cell_type": "markdown",
   "id": "ca3c2734",
   "metadata": {},
   "source": [
    "###### checking for empty values"
   ]
  },
  {
   "cell_type": "code",
   "execution_count": 19,
   "id": "7a68c4bc",
   "metadata": {},
   "outputs": [
    {
     "data": {
      "text/plain": [
       "Unnamed: 0    0\n",
       "title         0\n",
       "text          0\n",
       "label         0\n",
       "dtype: int64"
      ]
     },
     "execution_count": 19,
     "metadata": {},
     "output_type": "execute_result"
    }
   ],
   "source": [
    "df.isna().sum()"
   ]
  },
  {
   "cell_type": "code",
   "execution_count": 23,
   "id": "8ee74657",
   "metadata": {},
   "outputs": [],
   "source": [
    "# Create an NLP pipeline\n",
    "nlp = spacy.load('en_core_web_md') #add mention to other languages"
   ]
  },
  {
   "cell_type": "code",
   "execution_count": 24,
   "id": "735f25a6",
   "metadata": {},
   "outputs": [
    {
     "name": "stdout",
     "output_type": "stream",
     "text": [
      "Processing the entire cleaned data took 976.73 seconds\n"
     ]
    }
   ],
   "source": [
    "# let's call nlp.pipe on our dataset and convert the result to a list\n",
    "#  this will be applied to to all the 'text' column of the dataframe.\n",
    "from time import time\n",
    "t_start= time()\n",
    "df_processed = list(nlp.pipe(df['text'].iloc[:8000]))\n",
    "print(f'Processing the entire cleaned data took {time()-t_start:.2f} seconds')\n",
    "\n"
   ]
  },
  {
   "cell_type": "code",
   "execution_count": 27,
   "id": "93f234f5",
   "metadata": {},
   "outputs": [],
   "source": [
    "# get the length of all processed documents in the whole cleaned dataset\n",
    "df_docLength_to_be_visualized= []\n",
    "for doc in df_processed:\n",
    "      df_docLength_to_be_visualized.append(len(doc.text)) #doc.text contains the whole text of the original document\n",
    "\n",
    "  #note that the df variable holds both the original text and the processed text. So when we use \"doc.text\", we access and retrieve the original text.\n"
   ]
  },
  {
   "cell_type": "code",
   "execution_count": 29,
   "id": "d3c2b33e",
   "metadata": {},
   "outputs": [
    {
     "data": {
      "image/png": "[encoded data removed]",
      "text/plain": [
       "<Figure size 432x288 with 1 Axes>"
      ]
     },
     "metadata": {
      "needs_background": "light"
     },
     "output_type": "display_data"
    }
   ],
   "source": [
    "import matplotlib.pyplot as plt\n",
    "# plot the distribution of lengths in an histogram\n",
    "fig = plt.figure()\n",
    "ax = fig.add_subplot(1, 1, 1)\n",
    "ax.hist(df_docLength_to_be_visualized)\n",
    "ax.set_xlabel('Document length')\n",
    "_ =ax.set_ylabel('Counts')\n"
   ]
  },
  {
   "cell_type": "code",
   "execution_count": 31,
   "id": "e1d1c538",
   "metadata": {},
   "outputs": [],
   "source": [
    "# get the number of tokens in each document\n",
    "df_docTokens_to_be_visualized= []\n",
    "for doc in df_processed:\n",
    "      df_docTokens_to_be_visualized.append(len(doc)) #the length of a spaCy document is the number of tokens\n",
    "\n",
    "  #Here the len(doc) command accesses and retrieves the processed data (i.e. tokenized data) contained in the reduced_dataset_processed.\n",
    "\n"
   ]
  },
  {
   "cell_type": "code",
   "execution_count": 32,
   "id": "fd78a55d",
   "metadata": {},
   "outputs": [
    {
     "data": {
      "image/png": "[encoded data removed]",
      "text/plain": [
       "<Figure size 432x288 with 1 Axes>"
      ]
     },
     "metadata": {
      "needs_background": "light"
     },
     "output_type": "display_data"
    }
   ],
   "source": [
    "import matplotlib.pyplot as plt\n",
    "# plot the distribution of lengths in an histogram\n",
    "fig = plt.figure()\n",
    "ax = fig.add_subplot(1, 1, 1)\n",
    "ax.hist(df_docTokens_to_be_visualized)\n",
    "ax.set_xlabel('Number of tokens in a document')\n",
    "_ =ax.set_ylabel('Counts')\n"
   ]
  },
  {
   "cell_type": "code",
   "execution_count": 41,
   "id": "7c7a81d5",
   "metadata": {},
   "outputs": [],
   "source": [
    "# let's cycle through the documents again, but this time we'll keep track of positive\n",
    "# and negative reviews separately\n",
    "real_label_to_be_visualized= []\n",
    "fake_label_to_be_visualized= []\n",
    "for i,doc in enumerate(df_processed):\n",
    "    if df.iloc[i]['label']=='REAL':\n",
    "        real_label_to_be_visualized.append(len(doc)) #the length of a spaCy document is the number of tokens\n",
    "    elif df.iloc[i]['label']=='FAKE':\n",
    "        fake_label_to_be_visualized.append(len(doc))\n"
   ]
  },
  {
   "cell_type": "code",
   "execution_count": 42,
   "id": "9284aede",
   "metadata": {},
   "outputs": [
    {
     "data": {
      "image/png": "[encoded data removed]",
      "text/plain": [
       "<Figure size 432x288 with 1 Axes>"
      ]
     },
     "metadata": {
      "needs_background": "light"
     },
     "output_type": "display_data"
    }
   ],
   "source": [
    "import matplotlib.pyplot as plt\n",
    "# plot the distribution of lengths in an histogram\n",
    "fig = plt.figure()\n",
    "ax = fig.add_subplot(1, 1, 1)\n",
    "ax.hist(real_label_to_be_visualized, density= True)\n",
    "ax.hist(fake_label_to_be_visualized, alpha=0.6, density=True)\n",
    "ax.set_xlabel('Number of tokens in a document')\n",
    "_ =ax.set_ylabel('Probability density')\n",
    "_= ax.legend(['Real news','Fake news'])\n"
   ]
  },
  {
   "cell_type": "code",
   "execution_count": null,
   "id": "c475e7c3",
   "metadata": {},
   "outputs": [],
   "source": []
  },
  {
   "cell_type": "code",
   "execution_count": 43,
   "id": "152161de",
   "metadata": {},
   "outputs": [],
   "source": [
    "# import TfidfVectorizer\n",
    "from sklearn.feature_extraction.text import TfidfVectorizer\n",
    "\n",
    "# create a tokenizer that leaves documents already tokenized as they are:\n",
    "def tokenize_as_is(x):\n",
    "  ''' x is a list of tokens. It's returned as is'''\n",
    "  return x\n",
    "\n",
    "# define a function to get the most frequent ngrams\n",
    "def get_top_ngram(spacy_tokenized_corpus, ngram_range=(1,2), top_n= 50):\n",
    "    ''' By default it return the top 50 unigrams/bigrams'''\n",
    "    vec = TfidfVectorizer(ngram_range=ngram_range, max_features=top_n, lowercase=False,\n",
    "                          tokenizer=tokenize_as_is).fit(spacy_tokenized_corpus)\n",
    "    # get a vector for each document\n",
    "    bag_of_words = vec.transform(spacy_tokenized_corpus)\n",
    "    # sum across documents\n",
    "    sum_words = bag_of_words.sum(axis=0) \n",
    "    # get the words with their frequencies and order them\n",
    "    words_freq = [(word, sum_words[0, idx]) \n",
    "                  for word, idx in vec.vocabulary_.items()]\n",
    "    words_freq =sorted(words_freq, key = lambda x: x[1], reverse=True)\n",
    "    return bag_of_words, words_freq#[:10]"
   ]
  },
  {
   "cell_type": "code",
   "execution_count": 44,
   "id": "1cc377d3",
   "metadata": {},
   "outputs": [],
   "source": [
    "df_processed_tokenized = []\n",
    "for i,doc in enumerate(df_processed):\n",
    "  # let's collect all valid tokens (i.e. no stop words, no punctuation) into a list\n",
    "  df_processed_tokenized.append([token.lemma_ for token in doc if not (token.is_stop or token.is_punct)])"
   ]
  },
  {
   "cell_type": "code",
   "execution_count": 45,
   "id": "09b6e52b",
   "metadata": {},
   "outputs": [
    {
     "name": "stderr",
     "output_type": "stream",
     "text": [
      "C:\\Users\\Joshua Giwa\\AppData\\Roaming\\Python\\Python38\\site-packages\\sklearn\\feature_extraction\\text.py:524: UserWarning: The parameter 'token_pattern' will not be used since 'tokenizer' is not None'\n",
      "  warnings.warn(\n"
     ]
    },
    {
     "data": {
      "text/plain": [
       "<AxesSubplot:>"
      ]
     },
     "execution_count": 45,
     "metadata": {},
     "output_type": "execute_result"
    },
    {
     "data": {
      "image/png": "[encoded data removed]",
      "text/plain": [
       "<Figure size 504x864 with 1 Axes>"
      ]
     },
     "metadata": {
      "needs_background": "light"
     },
     "output_type": "display_data"
    }
   ],
   "source": [
    "# let's get the words frequencies\n",
    "bag_of_words, words_freq= get_top_ngram(df_processed_tokenized, ngram_range=(1,2), top_n= 50)\n",
    "\n",
    "# let's plot them\n",
    "import seaborn as sns\n",
    "# separate the n_grams from their frequencies\n",
    "ngram_labels = [word[0] for word in words_freq]\n",
    "ngram_freqs = [word[1] for word in words_freq]\n",
    "plt.figure(figsize=(7,12))\n",
    "sns.barplot(x=ngram_freqs,y=ngram_labels)\n"
   ]
  },
  {
   "cell_type": "code",
   "execution_count": 48,
   "id": "4d11e5a2",
   "metadata": {},
   "outputs": [
    {
     "data": {
      "text/plain": [
       "('Trump', 787.6070180549301)"
      ]
     },
     "execution_count": 48,
     "metadata": {},
     "output_type": "execute_result"
    }
   ],
   "source": [
    "words_freq[2]"
   ]
  },
  {
   "cell_type": "code",
   "execution_count": 50,
   "id": "e7d86533",
   "metadata": {},
   "outputs": [],
   "source": [
    "df_temp= df['text'].map(lambda x: x.replace('\\n',''))"
   ]
  },
  {
   "cell_type": "markdown",
   "id": "2cd6a1a7",
   "metadata": {},
   "source": [
    "###### Next is to plot most common bigrams for real and fake news"
   ]
  },
  {
   "cell_type": "code",
   "execution_count": 53,
   "id": "ac40d9c9",
   "metadata": {},
   "outputs": [
    {
     "name": "stderr",
     "output_type": "stream",
     "text": [
      "C:\\Users\\Joshua Giwa\\AppData\\Roaming\\Python\\Python38\\site-packages\\sklearn\\feature_extraction\\text.py:524: UserWarning: The parameter 'token_pattern' will not be used since 'tokenizer' is not None'\n",
      "  warnings.warn(\n"
     ]
    },
    {
     "data": {
      "text/plain": [
       "<AxesSubplot:>"
      ]
     },
     "execution_count": 53,
     "metadata": {},
     "output_type": "execute_result"
    },
    {
     "data": {
      "image/png": "[encoded data removed]",
      "text/plain": [
       "<Figure size 360x648 with 1 Axes>"
      ]
     },
     "metadata": {
      "needs_background": "light"
     },
     "output_type": "display_data"
    }
   ],
   "source": [
    "# Most common bigrams for real news\n",
    "real_labels_tokenized= []\n",
    "for i,doc in enumerate(df_processed):\n",
    "    if df.iloc[i]['label']=='REAL':\n",
    "    # let's collect all valid tokens (i.e. no stop words, no punctuation) into a list\n",
    "     real_labels_tokenized.append([token.lemma_ for token in doc if not (token.is_stop or token.is_punct)])\n",
    "\n",
    "_, real_bigram_freq= get_top_ngram(real_labels_tokenized, ngram_range=(2,2), top_n= 20)\n",
    "\n",
    "# let's plot them\n",
    "# separate the n_grams from their frequencies\n",
    "# let's temporarily remove the spurious newline character since we know it's there (but let's make it obvious)\n",
    "real_bigram_labels = [word[0].replace('\\n\\n\\n\\n','NEWLINE') for word in real_bigram_freq]\n",
    "real_bigram_freqs = [word[1] for word in real_bigram_freq]\n",
    "plt.figure(figsize=(5,9))\n",
    "sns.barplot(x=real_bigram_freqs,y=real_bigram_labels)\n"
   ]
  },
  {
   "cell_type": "code",
   "execution_count": 54,
   "id": "355d1b68",
   "metadata": {},
   "outputs": [
    {
     "name": "stderr",
     "output_type": "stream",
     "text": [
      "C:\\Users\\Joshua Giwa\\AppData\\Roaming\\Python\\Python38\\site-packages\\sklearn\\feature_extraction\\text.py:524: UserWarning: The parameter 'token_pattern' will not be used since 'tokenizer' is not None'\n",
      "  warnings.warn(\n"
     ]
    },
    {
     "data": {
      "text/plain": [
       "<AxesSubplot:>"
      ]
     },
     "execution_count": 54,
     "metadata": {},
     "output_type": "execute_result"
    },
    {
     "data": {
      "image/png": "[encoded data removed]",
      "text/plain": [
       "<Figure size 360x648 with 1 Axes>"
      ]
     },
     "metadata": {
      "needs_background": "light"
     },
     "output_type": "display_data"
    }
   ],
   "source": [
    "# Most common bigrams for negative reviews\n",
    "fake_labels_tokenized= []\n",
    "for i,doc in enumerate(df_processed):\n",
    "  if df.iloc[i]['label']=='FAKE':\n",
    "    # let's collect all valid tokens (i.e. no stop words, no punctuation) into a list\n",
    "    fake_labels_tokenized.append([token.lemma_ for token in doc if not (token.is_stop or token.is_punct)])\n",
    "\n",
    "_, fake_bigram_freq= get_top_ngram(fake_labels_tokenized, ngram_range=(2,2), top_n= 20)\n",
    "\n",
    "# let's plot them\n",
    "# separate the n_grams from their frequencies\n",
    "fake_bigram_labels = [word[0].replace('\\n\\n\\n\\n','NEWLINE') for word in fake_bigram_freq]\n",
    "fake_bigram_freqs = [word[1] for word in fake_bigram_freq]\n",
    "plt.figure(figsize=(5,9))\n",
    "sns.barplot(x=fake_bigram_freqs,y=fake_bigram_labels)\n"
   ]
  },
  {
   "cell_type": "code",
   "execution_count": 71,
   "id": "7d22ac53",
   "metadata": {},
   "outputs": [
    {
     "data": {
      "text/plain": [
       "<seaborn.axisgrid.FacetGrid at 0x1ed13a663a0>"
      ]
     },
     "execution_count": 71,
     "metadata": {},
     "output_type": "execute_result"
    },
    {
     "data": {
      "image/png": "[encoded data removed]",
      "text/plain": [
       "<Figure size 360x360 with 1 Axes>"
      ]
     },
     "metadata": {
      "needs_background": "light"
     },
     "output_type": "display_data"
    }
   ],
   "source": [
    "sns.displot(df.label)"
   ]
  },
  {
   "cell_type": "code",
   "execution_count": 73,
   "id": "e87953e6",
   "metadata": {},
   "outputs": [],
   "source": [
    "sns.set_theme(style=\"whitegrid\")"
   ]
  },
  {
   "cell_type": "markdown",
   "id": "1ccdfced",
   "metadata": {},
   "source": [
    "###### it can be seen here that the distribution of categories in the dependent variable's dataset is almost perfectly balanced. This could be why the classification algorithm had a high accuracy despite SMOTE or Random OverSampler wasn't used"
   ]
  },
  {
   "cell_type": "code",
   "execution_count": 74,
   "id": "4ba751d8",
   "metadata": {},
   "outputs": [
    {
     "data": {
      "text/plain": [
       "<AxesSubplot:xlabel='label', ylabel='count'>"
      ]
     },
     "execution_count": 74,
     "metadata": {},
     "output_type": "execute_result"
    },
    {
     "data": {
      "image/png": "[encoded data removed]",
      "text/plain": [
       "<Figure size 432x288 with 1 Axes>"
      ]
     },
     "metadata": {},
     "output_type": "display_data"
    }
   ],
   "source": [
    "sns.countplot(x=df[\"label\"])"
   ]
  },
  {
   "cell_type": "code",
   "execution_count": null,
   "id": "ea55d6f6",
   "metadata": {},
   "outputs": [],
   "source": []
  },
  {
   "cell_type": "code",
   "execution_count": null,
   "id": "6e7afafb",
   "metadata": {},
   "outputs": [],
   "source": []
  },
  {
   "cell_type": "code",
   "execution_count": 11,
   "id": "47fe2f4c",
   "metadata": {},
   "outputs": [
    {
     "data": {
      "text/html": [
       "<div>\n",
       "<style scoped>\n",
       "    .dataframe tbody tr th:only-of-type {\n",
       "        vertical-align: middle;\n",
       "    }\n",
       "\n",
       "    .dataframe tbody tr th {\n",
       "        vertical-align: top;\n",
       "    }\n",
       "\n",
       "    .dataframe thead th {\n",
       "        text-align: right;\n",
       "    }\n",
       "</style>\n",
       "<table border=\"1\" class=\"dataframe\">\n",
       "  <thead>\n",
       "    <tr style=\"text-align: right;\">\n",
       "      <th></th>\n",
       "      <th>Unnamed: 0</th>\n",
       "      <th>title</th>\n",
       "      <th>text</th>\n",
       "      <th>label</th>\n",
       "    </tr>\n",
       "  </thead>\n",
       "  <tbody>\n",
       "    <tr>\n",
       "      <th>0</th>\n",
       "      <td>8476</td>\n",
       "      <td>You Can Smell Hillary’s Fear</td>\n",
       "      <td>Daniel Greenfield, a Shillman Journalism Fello...</td>\n",
       "      <td>FAKE</td>\n",
       "    </tr>\n",
       "    <tr>\n",
       "      <th>1</th>\n",
       "      <td>10294</td>\n",
       "      <td>Watch The Exact Moment Paul Ryan Committed Pol...</td>\n",
       "      <td>Google Pinterest Digg Linkedin Reddit Stumbleu...</td>\n",
       "      <td>FAKE</td>\n",
       "    </tr>\n",
       "    <tr>\n",
       "      <th>2</th>\n",
       "      <td>3608</td>\n",
       "      <td>Kerry to go to Paris in gesture of sympathy</td>\n",
       "      <td>U.S. Secretary of State John F. Kerry said Mon...</td>\n",
       "      <td>REAL</td>\n",
       "    </tr>\n",
       "    <tr>\n",
       "      <th>3</th>\n",
       "      <td>10142</td>\n",
       "      <td>Bernie supporters on Twitter erupt in anger ag...</td>\n",
       "      <td>— Kaydee King (@KaydeeKing) November 9, 2016 T...</td>\n",
       "      <td>FAKE</td>\n",
       "    </tr>\n",
       "    <tr>\n",
       "      <th>4</th>\n",
       "      <td>875</td>\n",
       "      <td>The Battle of New York: Why This Primary Matters</td>\n",
       "      <td>It's primary day in New York and front-runners...</td>\n",
       "      <td>REAL</td>\n",
       "    </tr>\n",
       "    <tr>\n",
       "      <th>5</th>\n",
       "      <td>6903</td>\n",
       "      <td>Tehran, USA</td>\n",
       "      <td>\\nI’m not an immigrant, but my grandparents ...</td>\n",
       "      <td>FAKE</td>\n",
       "    </tr>\n",
       "    <tr>\n",
       "      <th>6</th>\n",
       "      <td>7341</td>\n",
       "      <td>Girl Horrified At What She Watches Boyfriend D...</td>\n",
       "      <td>Share This Baylee Luciani (left), Screenshot o...</td>\n",
       "      <td>FAKE</td>\n",
       "    </tr>\n",
       "    <tr>\n",
       "      <th>7</th>\n",
       "      <td>95</td>\n",
       "      <td>‘Britain’s Schindler’ Dies at 106</td>\n",
       "      <td>A Czech stockbroker who saved more than 650 Je...</td>\n",
       "      <td>REAL</td>\n",
       "    </tr>\n",
       "    <tr>\n",
       "      <th>8</th>\n",
       "      <td>4869</td>\n",
       "      <td>Fact check: Trump and Clinton at the 'commande...</td>\n",
       "      <td>Hillary Clinton and Donald Trump made some ina...</td>\n",
       "      <td>REAL</td>\n",
       "    </tr>\n",
       "    <tr>\n",
       "      <th>9</th>\n",
       "      <td>2909</td>\n",
       "      <td>Iran reportedly makes new push for uranium con...</td>\n",
       "      <td>Iranian negotiators reportedly have made a las...</td>\n",
       "      <td>REAL</td>\n",
       "    </tr>\n",
       "    <tr>\n",
       "      <th>10</th>\n",
       "      <td>1357</td>\n",
       "      <td>With all three Clintons in Iowa, a glimpse at ...</td>\n",
       "      <td>CEDAR RAPIDS, Iowa — “I had one of the most wo...</td>\n",
       "      <td>REAL</td>\n",
       "    </tr>\n",
       "    <tr>\n",
       "      <th>11</th>\n",
       "      <td>988</td>\n",
       "      <td>Donald Trump’s Shockingly Weak Delegate Game S...</td>\n",
       "      <td>Donald Trump’s organizational problems have go...</td>\n",
       "      <td>REAL</td>\n",
       "    </tr>\n",
       "    <tr>\n",
       "      <th>12</th>\n",
       "      <td>7041</td>\n",
       "      <td>Strong Solar Storm, Tech Risks Today | S0 News...</td>\n",
       "      <td>Click Here To Learn More About Alexandra's Per...</td>\n",
       "      <td>FAKE</td>\n",
       "    </tr>\n",
       "    <tr>\n",
       "      <th>13</th>\n",
       "      <td>7623</td>\n",
       "      <td>10 Ways America Is Preparing for World War 3</td>\n",
       "      <td>October 31, 2016 at 4:52 am \\nPretty factual e...</td>\n",
       "      <td>FAKE</td>\n",
       "    </tr>\n",
       "    <tr>\n",
       "      <th>14</th>\n",
       "      <td>1571</td>\n",
       "      <td>Trump takes on Cruz, but lightly</td>\n",
       "      <td>Killing Obama administration rules, dismantlin...</td>\n",
       "      <td>REAL</td>\n",
       "    </tr>\n",
       "    <tr>\n",
       "      <th>15</th>\n",
       "      <td>4739</td>\n",
       "      <td>How women lead differently</td>\n",
       "      <td>As more women move into high offices, they oft...</td>\n",
       "      <td>REAL</td>\n",
       "    </tr>\n",
       "    <tr>\n",
       "      <th>16</th>\n",
       "      <td>7737</td>\n",
       "      <td>Shocking! Michele Obama &amp; Hillary Caught Glamo...</td>\n",
       "      <td>Shocking! Michele Obama &amp; Hillary Caught Glamo...</td>\n",
       "      <td>FAKE</td>\n",
       "    </tr>\n",
       "    <tr>\n",
       "      <th>17</th>\n",
       "      <td>8716</td>\n",
       "      <td>Hillary Clinton in HUGE Trouble After America ...</td>\n",
       "      <td>0 \\nHillary Clinton has barely just lost the p...</td>\n",
       "      <td>FAKE</td>\n",
       "    </tr>\n",
       "    <tr>\n",
       "      <th>18</th>\n",
       "      <td>3304</td>\n",
       "      <td>What's in that Iran bill that Obama doesn't like?</td>\n",
       "      <td>Washington (CNN) For months, the White House a...</td>\n",
       "      <td>REAL</td>\n",
       "    </tr>\n",
       "    <tr>\n",
       "      <th>19</th>\n",
       "      <td>3078</td>\n",
       "      <td>The 1 chart that explains everything you need ...</td>\n",
       "      <td>While paging through Pew's best data visualiza...</td>\n",
       "      <td>REAL</td>\n",
       "    </tr>\n",
       "  </tbody>\n",
       "</table>\n",
       "</div>"
      ],
      "text/plain": [
       "    Unnamed: 0                                              title  \\\n",
       "0         8476                       You Can Smell Hillary’s Fear   \n",
       "1        10294  Watch The Exact Moment Paul Ryan Committed Pol...   \n",
       "2         3608        Kerry to go to Paris in gesture of sympathy   \n",
       "3        10142  Bernie supporters on Twitter erupt in anger ag...   \n",
       "4          875   The Battle of New York: Why This Primary Matters   \n",
       "5         6903                                        Tehran, USA   \n",
       "6         7341  Girl Horrified At What She Watches Boyfriend D...   \n",
       "7           95                  ‘Britain’s Schindler’ Dies at 106   \n",
       "8         4869  Fact check: Trump and Clinton at the 'commande...   \n",
       "9         2909  Iran reportedly makes new push for uranium con...   \n",
       "10        1357  With all three Clintons in Iowa, a glimpse at ...   \n",
       "11         988  Donald Trump’s Shockingly Weak Delegate Game S...   \n",
       "12        7041  Strong Solar Storm, Tech Risks Today | S0 News...   \n",
       "13        7623       10 Ways America Is Preparing for World War 3   \n",
       "14        1571                   Trump takes on Cruz, but lightly   \n",
       "15        4739                         How women lead differently   \n",
       "16        7737  Shocking! Michele Obama & Hillary Caught Glamo...   \n",
       "17        8716  Hillary Clinton in HUGE Trouble After America ...   \n",
       "18        3304  What's in that Iran bill that Obama doesn't like?   \n",
       "19        3078  The 1 chart that explains everything you need ...   \n",
       "\n",
       "                                                 text label  \n",
       "0   Daniel Greenfield, a Shillman Journalism Fello...  FAKE  \n",
       "1   Google Pinterest Digg Linkedin Reddit Stumbleu...  FAKE  \n",
       "2   U.S. Secretary of State John F. Kerry said Mon...  REAL  \n",
       "3   — Kaydee King (@KaydeeKing) November 9, 2016 T...  FAKE  \n",
       "4   It's primary day in New York and front-runners...  REAL  \n",
       "5     \\nI’m not an immigrant, but my grandparents ...  FAKE  \n",
       "6   Share This Baylee Luciani (left), Screenshot o...  FAKE  \n",
       "7   A Czech stockbroker who saved more than 650 Je...  REAL  \n",
       "8   Hillary Clinton and Donald Trump made some ina...  REAL  \n",
       "9   Iranian negotiators reportedly have made a las...  REAL  \n",
       "10  CEDAR RAPIDS, Iowa — “I had one of the most wo...  REAL  \n",
       "11  Donald Trump’s organizational problems have go...  REAL  \n",
       "12  Click Here To Learn More About Alexandra's Per...  FAKE  \n",
       "13  October 31, 2016 at 4:52 am \\nPretty factual e...  FAKE  \n",
       "14  Killing Obama administration rules, dismantlin...  REAL  \n",
       "15  As more women move into high offices, they oft...  REAL  \n",
       "16  Shocking! Michele Obama & Hillary Caught Glamo...  FAKE  \n",
       "17  0 \\nHillary Clinton has barely just lost the p...  FAKE  \n",
       "18  Washington (CNN) For months, the White House a...  REAL  \n",
       "19  While paging through Pew's best data visualiza...  REAL  "
      ]
     },
     "execution_count": 11,
     "metadata": {},
     "output_type": "execute_result"
    }
   ],
   "source": [
    "df.head(20)"
   ]
  },
  {
   "cell_type": "markdown",
   "id": "b2427edb",
   "metadata": {},
   "source": [
    "##### do some EDA for the dataset"
   ]
  },
  {
   "cell_type": "code",
   "execution_count": 12,
   "id": "d51eed71",
   "metadata": {},
   "outputs": [
    {
     "data": {
      "text/plain": [
       "0    FAKE\n",
       "1    FAKE\n",
       "2    REAL\n",
       "3    FAKE\n",
       "4    REAL\n",
       "Name: label, dtype: object"
      ]
     },
     "execution_count": 12,
     "metadata": {},
     "output_type": "execute_result"
    }
   ],
   "source": [
    "labels=df.label\n",
    "labels.head()"
   ]
  },
  {
   "cell_type": "code",
   "execution_count": null,
   "id": "455cc369",
   "metadata": {},
   "outputs": [],
   "source": []
  },
  {
   "cell_type": "code",
   "execution_count": null,
   "id": "62620ec4",
   "metadata": {},
   "outputs": [],
   "source": []
  },
  {
   "cell_type": "code",
   "execution_count": null,
   "id": "2e001c60",
   "metadata": {},
   "outputs": [],
   "source": []
  },
  {
   "cell_type": "code",
   "execution_count": null,
   "id": "9d0ca303",
   "metadata": {},
   "outputs": [],
   "source": []
  },
  {
   "cell_type": "code",
   "execution_count": null,
   "id": "916a5ad2",
   "metadata": {},
   "outputs": [],
   "source": []
  },
  {
   "cell_type": "code",
   "execution_count": null,
   "id": "10595da3",
   "metadata": {},
   "outputs": [],
   "source": []
  },
  {
   "cell_type": "code",
   "execution_count": 61,
   "id": "616a4388",
   "metadata": {},
   "outputs": [
    {
     "name": "stderr",
     "output_type": "stream",
     "text": [
      "C:\\Users\\Joshua Giwa\\AppData\\Roaming\\Python\\Python38\\site-packages\\sklearn\\feature_extraction\\text.py:524: UserWarning: The parameter 'token_pattern' will not be used since 'tokenizer' is not None'\n",
      "  warnings.warn(\n"
     ]
    },
    {
     "name": "stdout",
     "output_type": "stream",
     "text": [
      "\n",
      " The number of features in the vocabulary is 38250\n",
      "\n"
     ]
    }
   ],
   "source": [
    "# Let's create something like a BoW model but with tfidf, with bigrams and no thresholds\n",
    "df_dataset_processed_TfIdf_vectorizer = TfidfVectorizer(ngram_range=(1,3), lowercase=False, tokenizer=tokenize_as_is,\n",
    "                       min_df=10, max_df=0.5).fit( df_processed_tokenized)\n",
    "\n",
    "# how many features do we have\n",
    "print(f\"\\n The number of features in the vocabulary is {len(df_dataset_processed_TfIdf_vectorizer.get_feature_names_out())}\\n\")\n"
   ]
  },
  {
   "cell_type": "code",
   "execution_count": 62,
   "id": "119ae822",
   "metadata": {},
   "outputs": [],
   "source": [
    "# fit and transform our processed and tokenized list called df_processed_tokenized using tfidf vectorizer, into our document matrix named new_dataset\n",
    "new_dataset = df_dataset_processed_TfIdf_vectorizer.fit_transform(df_processed_tokenized)\n"
   ]
  },
  {
   "cell_type": "code",
   "execution_count": 63,
   "id": "cf7cae27",
   "metadata": {},
   "outputs": [
    {
     "name": "stdout",
     "output_type": "stream",
     "text": [
      "38250\n",
      "6335\n"
     ]
    }
   ],
   "source": [
    "#print the shape of our document matrix called new_dataset\n",
    "type (new_dataset)\n",
    "print (new_dataset.shape[1])\n",
    "print (new_dataset.shape[0])\n"
   ]
  },
  {
   "cell_type": "code",
   "execution_count": 64,
   "id": "2be869f5",
   "metadata": {},
   "outputs": [
    {
     "data": {
      "text/plain": [
       "scipy.sparse._csr.csr_matrix"
      ]
     },
     "execution_count": 64,
     "metadata": {},
     "output_type": "execute_result"
    }
   ],
   "source": [
    "type (new_dataset)"
   ]
  },
  {
   "cell_type": "code",
   "execution_count": null,
   "id": "e7fb802c",
   "metadata": {},
   "outputs": [],
   "source": []
  },
  {
   "cell_type": "code",
   "execution_count": 65,
   "id": "54b57fbf",
   "metadata": {},
   "outputs": [],
   "source": [
    "x_train,x_test,y_train,y_test=train_test_split(new_dataset, labels, test_size=0.2, random_state=7)"
   ]
  },
  {
   "cell_type": "code",
   "execution_count": 66,
   "id": "fb577ce0",
   "metadata": {},
   "outputs": [
    {
     "data": {
      "text/plain": [
       "((5068, 38250), (1267, 38250), (5068,), (1267,))"
      ]
     },
     "execution_count": 66,
     "metadata": {},
     "output_type": "execute_result"
    }
   ],
   "source": [
    "x_train.shape, x_test.shape, y_train.shape, y_test.shape"
   ]
  },
  {
   "cell_type": "code",
   "execution_count": null,
   "id": "87a0989e",
   "metadata": {},
   "outputs": [],
   "source": []
  },
  {
   "cell_type": "code",
   "execution_count": 69,
   "id": "94501fa3",
   "metadata": {},
   "outputs": [
    {
     "name": "stdout",
     "output_type": "stream",
     "text": [
      "Accuracy: 98.18%\n"
     ]
    }
   ],
   "source": [
    "#DataFlair - Initialize a PassiveAggressiveClassifier\n",
    "pac=PassiveAggressiveClassifier(max_iter=50)\n",
    "pac.fit(x_train,y_train)\n",
    "#DataFlair - Predict on the test set and calculate accuracy\n",
    "y_pred=pac.predict(x_test)\n",
    "score=accuracy_score(y_test,y_pred)\n",
    "print(f'Accuracy: {round(score*100,2)}%')"
   ]
  },
  {
   "cell_type": "code",
   "execution_count": 76,
   "id": "a3843435",
   "metadata": {},
   "outputs": [
    {
     "data": {
      "text/plain": [
       "array([[619,  19],\n",
       "       [  4, 625]], dtype=int64)"
      ]
     },
     "execution_count": 76,
     "metadata": {},
     "output_type": "execute_result"
    }
   ],
   "source": [
    "#DataFlair - Build confusion matrix\n",
    "conf_matrix = confusion_matrix(y_test,y_pred, labels=['FAKE','REAL'])\n",
    "conf_matrix\n"
   ]
  },
  {
   "cell_type": "code",
   "execution_count": 77,
   "id": "cc7b0c34",
   "metadata": {},
   "outputs": [
    {
     "data": {
      "text/plain": [
       "Text(0.5, 257.44, 'Predicted label')"
      ]
     },
     "execution_count": 77,
     "metadata": {},
     "output_type": "execute_result"
    },
    {
     "data": {
      "image/png": "[encoded data removed]",
      "text/plain": [
       "<Figure size 432x288 with 2 Axes>"
      ]
     },
     "metadata": {},
     "output_type": "display_data"
    }
   ],
   "source": [
    "class_names=[0,1] # name  of classes\n",
    "sns.set(font_scale = 2.0)\n",
    "fig, ax = plt.subplots()\n",
    "tick_marks = np.arange(len(class_names))\n",
    "plt.xticks(tick_marks, class_names)\n",
    "plt.yticks(tick_marks, class_names)\n",
    "# create heatmap\n",
    "sns.heatmap(pd.DataFrame(conf_matrix), annot=True, cmap=\"YlGnBu\" ,fmt='g')\n",
    "label_font = {'size': '16'}\n",
    "ax.xaxis.set_label_position(\"top\")\n",
    "plt.tight_layout()\n",
    "plt.title('Confusion matrix', y=1.3)\n",
    "plt.ylabel('Actual label')\n",
    "plt.xlabel('Predicted label')"
   ]
  },
  {
   "cell_type": "code",
   "execution_count": null,
   "id": "17a46c1b",
   "metadata": {},
   "outputs": [],
   "source": []
  }
 ],
 "metadata": {
  "kernelspec": {
   "display_name": "Python 3 (ipykernel)",
   "language": "python",
   "name": "python3"
  },
  "language_info": {
   "codemirror_mode": {
    "name": "ipython",
    "version": 3
   },
   "file_extension": ".py",
   "mimetype": "text/x-python",
   "name": "python",
   "nbconvert_exporter": "python",
   "pygments_lexer": "ipython3",
   "version": "3.8.8"
  }
 },
 "nbformat": 4,
 "nbformat_minor": 5
}
